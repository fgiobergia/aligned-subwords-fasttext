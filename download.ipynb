{
 "cells": [
  {
   "cell_type": "code",
   "execution_count": null,
   "metadata": {},
   "outputs": [],
   "source": [
    "# read txt file \n",
    "\n",
    "import sys\n",
    "import os\n",
    "import re\n",
    "import argparse\n",
    "import numpy as np\n",
    "import pandas as pd\n",
    "\n",
    "def read_txt_file(file_name):\n",
    "    with open(file_name) as f:\n",
    "        lines = f.readlines()\n",
    "    return lines\n",
    "\n",
    "array = read_txt_file('langs')\n",
    "\n",
    "new_array = [x.strip() for x in array]\n",
    "new_array.remove('it')\n",
    "len(new_array)"
   ]
  },
  {
   "cell_type": "code",
   "execution_count": 2,
   "metadata": {},
   "outputs": [
    {
     "name": "stdout",
     "output_type": "stream",
     "text": [
      "--2024-01-18 16:18:35--  https://dl.fbaipublicfiles.com/fasttext/vectors-aligned/wiki.es.align.vec\n",
      "Resolving dl.fbaipublicfiles.com (dl.fbaipublicfiles.com)... 18.66.196.77, 18.66.196.87, 18.66.196.36, ...\n",
      "Connecting to dl.fbaipublicfiles.com (dl.fbaipublicfiles.com)|18.66.196.77|:443... connected.\n",
      "HTTP request sent, awaiting response... 200 OK\n",
      "Length: 2227283009 (2.1G) [binary/octet-stream]\n",
      "Saving to: ‘/data1/malto/csavelli/aligned_subwords_fasttext/aligned/wiki.es.align.vec’\n",
      "\n",
      "wiki.es.align.vec   100%[===================>]   2.07G  10.4MB/s    in 3m 14s  \n",
      "\n",
      "2024-01-18 16:21:49 (10.9 MB/s) - ‘/data1/malto/csavelli/aligned_subwords_fasttext/aligned/wiki.es.align.vec’ saved [2227283009/2227283009]\n",
      "\n"
     ]
    }
   ],
   "source": [
    "lang = 'es'\n",
    "\n",
    "!wget -P /data1/malto/csavelli/aligned_subwords_fasttext/aligned https://dl.fbaipublicfiles.com/fasttext/vectors-aligned/wiki.{lang}.align.vec;\n",
    "#!wget -P /data1/malto/csavelli/aligned_subwords_fasttext/wiki https://dl.fbaipublicfiles.com/fasttext/vectors-wiki/wiki.{lang}.zip;\n",
    "#!unzip /data1/malto/csavelli/aligned_subwords_fasttext/wiki/wiki.{lang}.zip -d /data1/malto/csavelli/aligned_subwords_fasttext/wiki/;\n",
    "#!rm /data1/malto/csavelli/aligned_subwords_fasttext/wiki/wiki.{lang}.zip;"
   ]
  },
  {
   "cell_type": "code",
   "execution_count": null,
   "metadata": {},
   "outputs": [],
   "source": [
    "for lang in new_array: \n",
    "    !wget -P /data1/malto/csavelli/aligned_subwords_fasttext/aligned https://dl.fbaipublicfiles.com/fasttext/vectors-aligned/wiki.{lang}.align.vec;\n",
    "    !wget -P /data1/malto/csavelli/aligned_subwords_fasttext/wiki https://dl.fbaipublicfiles.com/fasttext/vectors-wiki/wiki.{lang}.zip;\n",
    "    !unzip /data1/malto/csavelli/aligned_subwords_fasttext/wiki/wiki.{lang}.zip -d /data1/malto/csavelli/aligned_subwords_fasttext/wiki/;\n",
    "    !rm /data1/malto/csavelli/aligned_subwords_fasttext/wiki/wiki.{lang}.zip;\n",
    "\n",
    "    # ultimo fatto eng "
   ]
  }
 ],
 "metadata": {
  "kernelspec": {
   "display_name": "venv",
   "language": "python",
   "name": "python3"
  },
  "language_info": {
   "codemirror_mode": {
    "name": "ipython",
    "version": 3
   },
   "file_extension": ".py",
   "mimetype": "text/x-python",
   "name": "python",
   "nbconvert_exporter": "python",
   "pygments_lexer": "ipython3",
   "version": "3.9.7"
  }
 },
 "nbformat": 4,
 "nbformat_minor": 2
}
