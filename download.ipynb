{
 "cells": [
  {
   "cell_type": "code",
   "execution_count": null,
   "metadata": {},
   "outputs": [],
   "source": [
    "# read txt file \n",
    "\n",
    "import sys\n",
    "import os\n",
    "import re\n",
    "import argparse\n",
    "import numpy as np\n",
    "import pandas as pd\n",
    "\n",
    "def read_txt_file(file_name):\n",
    "    with open(file_name) as f:\n",
    "        lines = f.readlines()\n",
    "    return lines\n",
    "\n",
    "array = read_txt_file('langs_down')\n",
    "\n",
    "lang = [x.strip() for x in array]\n",
    "lang"
   ]
  },
  {
   "cell_type": "code",
   "execution_count": null,
   "metadata": {},
   "outputs": [],
   "source": [
    "lang = 'es'\n",
    "\n",
    "#!wget -P /data1/malto/csavelli/aligned_subwords_fasttext/aligned https://dl.fbaipublicfiles.com/fasttext/vectors-aligned/wiki.{lang}.align.vec;\n",
    "!wget -P /data1/malto/csavelli/aligned_subwords_fasttext/wiki https://dl.fbaipublicfiles.com/fasttext/vectors-wiki/wiki.{lang}.zip;\n",
    "!unzip /data1/malto/csavelli/aligned_subwords_fasttext/wiki/wiki.{lang}.zip -d /data1/malto/csavelli/aligned_subwords_fasttext/wiki/;\n",
    "!rm /data1/malto/csavelli/aligned_subwords_fasttext/wiki/wiki.{lang}.zip;\n",
    "!rm /data1/malto/csavelli/aligned_subwords_fasttext/wiki/wiki.{lang}.vec;"
   ]
  },
  {
   "cell_type": "code",
   "execution_count": null,
   "metadata": {},
   "outputs": [],
   "source": [
    "for lang in lang: \n",
    "    #!wget -P /data1/malto/csavelli/aligned_subwords_fasttext/aligned https://dl.fbaipublicfiles.com/fasttext/vectors-aligned/wiki.{lang}.align.vec;\n",
    "    !wget -P /data1/malto/csavelli/aligned_subwords_fasttext/wiki https://dl.fbaipublicfiles.com/fasttext/vectors-wiki/wiki.{lang}.zip;\n",
    "    !unzip /data1/malto/csavelli/aligned_subwords_fasttext/wiki/wiki.{lang}.zip -d /data1/malto/csavelli/aligned_subwords_fasttext/wiki/;\n",
    "    !rm /data1/malto/csavelli/aligned_subwords_fasttext/wiki/wiki.{lang}.zip;\n",
    "    !rm /data1/malto/csavelli/aligned_subwords_fasttext/wiki/wiki.{lang}.vec;"
   ]
  },
  {
   "cell_type": "code",
   "execution_count": null,
   "metadata": {},
   "outputs": [],
   "source": [
    "array = read_txt_file('langs')\n",
    "\n",
    "bad_langs  = [x.strip() for x in array]\n",
    "bad_langs "
   ]
  },
  {
   "cell_type": "code",
   "execution_count": null,
   "metadata": {},
   "outputs": [],
   "source": [
    "for lang in lang: \n",
    "    !rm /data1/malto/csavelli/aligned_subwords_fasttext/aligned/wiki.{lang}.align.vec;\n",
    "    #!rm /data1/malto/csavelli/aligned_subwords_fasttext/wiki/wiki.{lang}.zip;\n",
    "    #!rm /data1/malto/csavelli/aligned_subwords_fasttext/wiki/wiki.{lang}.bin;\n",
    "    #!rm /data1/malto/csavelli/aligned_subwords_fasttext/wiki/wiki.{lang}.vec;"
   ]
  }
 ],
 "metadata": {
  "kernelspec": {
   "display_name": "venv",
   "language": "python",
   "name": "python3"
  },
  "language_info": {
   "codemirror_mode": {
    "name": "ipython",
    "version": 3
   },
   "file_extension": ".py",
   "mimetype": "text/x-python",
   "name": "python",
   "nbconvert_exporter": "python",
   "pygments_lexer": "ipython3",
   "version": "3.9.7"
  }
 },
 "nbformat": 4,
 "nbformat_minor": 2
}
